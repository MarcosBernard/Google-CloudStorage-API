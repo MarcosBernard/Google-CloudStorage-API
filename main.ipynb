{
 "cells": [
  {
   "cell_type": "markdown",
   "metadata": {},
   "source": [
    "Google Cloud Storage API <br>\n",
    "https://www.youtube.com/watch?v=pEbL_TT9cHg&t=270s"
   ]
  },
  {
   "cell_type": "markdown",
   "metadata": {},
   "source": [
    "> Importing libraries"
   ]
  },
  {
   "cell_type": "code",
   "execution_count": 2,
   "metadata": {},
   "outputs": [],
   "source": [
    "import os\n",
    "from google.cloud import storage"
   ]
  },
  {
   "cell_type": "markdown",
   "metadata": {},
   "source": [
    "> Credentials"
   ]
  },
  {
   "cell_type": "code",
   "execution_count": 3,
   "metadata": {},
   "outputs": [],
   "source": [
    "os.environ['GOOGLE_APPLICATION_CREDENTIALS'] = './GCS.json'\n",
    "\n",
    "storage_client = storage.Client()"
   ]
  },
  {
   "cell_type": "markdown",
   "metadata": {},
   "source": [
    "> Create a new bucket"
   ]
  },
  {
   "cell_type": "code",
   "execution_count": 4,
   "metadata": {},
   "outputs": [
    {
     "name": "stderr",
     "output_type": "stream",
     "text": [
      "C:\\Users\\marco\\AppData\\Local\\Temp\\ipykernel_688\\3212127579.py:3: DeprecationWarning: Assignment to 'Bucket.location' is deprecated, as it is only valid before the bucket is created. Instead, pass the location to `Bucket.create`.\n",
      "  bucket.location = 'US'\n"
     ]
    },
    {
     "ename": "Conflict",
     "evalue": "409 POST https://storage.googleapis.com/storage/v1/b?project=pf-henry-365404&prettyPrint=false: Your previous request to create the named bucket succeeded and you already own it.",
     "output_type": "error",
     "traceback": [
      "\u001b[1;31m---------------------------------------------------------------------------\u001b[0m",
      "\u001b[1;31mConflict\u001b[0m                                  Traceback (most recent call last)",
      "Cell \u001b[1;32mIn [4], line 4\u001b[0m\n\u001b[0;32m      2\u001b[0m bucket \u001b[39m=\u001b[39m storage_client\u001b[39m.\u001b[39mbucket(bucket_name)\n\u001b[0;32m      3\u001b[0m bucket\u001b[39m.\u001b[39mlocation \u001b[39m=\u001b[39m \u001b[39m'\u001b[39m\u001b[39mUS\u001b[39m\u001b[39m'\u001b[39m\n\u001b[1;32m----> 4\u001b[0m bucket \u001b[39m=\u001b[39m storage_client\u001b[39m.\u001b[39;49mcreate_bucket(bucket)\n",
      "File \u001b[1;32mc:\\Users\\marco\\OneDrive\\Desktop\\Google-CloudStorage-API\\venv\\lib\\site-packages\\google\\cloud\\storage\\client.py:991\u001b[0m, in \u001b[0;36mClient.create_bucket\u001b[1;34m(self, bucket_or_name, requester_pays, project, user_project, location, data_locations, predefined_acl, predefined_default_object_acl, timeout, retry)\u001b[0m\n\u001b[0;32m    988\u001b[0m \u001b[39mif\u001b[39;00m data_locations \u001b[39mis\u001b[39;00m \u001b[39mnot\u001b[39;00m \u001b[39mNone\u001b[39;00m:\n\u001b[0;32m    989\u001b[0m     properties[\u001b[39m\"\u001b[39m\u001b[39mcustomPlacementConfig\u001b[39m\u001b[39m\"\u001b[39m] \u001b[39m=\u001b[39m {\u001b[39m\"\u001b[39m\u001b[39mdataLocations\u001b[39m\u001b[39m\"\u001b[39m: data_locations}\n\u001b[1;32m--> 991\u001b[0m api_response \u001b[39m=\u001b[39m \u001b[39mself\u001b[39;49m\u001b[39m.\u001b[39;49m_post_resource(\n\u001b[0;32m    992\u001b[0m     \u001b[39m\"\u001b[39;49m\u001b[39m/b\u001b[39;49m\u001b[39m\"\u001b[39;49m,\n\u001b[0;32m    993\u001b[0m     properties,\n\u001b[0;32m    994\u001b[0m     query_params\u001b[39m=\u001b[39;49mquery_params,\n\u001b[0;32m    995\u001b[0m     timeout\u001b[39m=\u001b[39;49mtimeout,\n\u001b[0;32m    996\u001b[0m     retry\u001b[39m=\u001b[39;49mretry,\n\u001b[0;32m    997\u001b[0m     _target_object\u001b[39m=\u001b[39;49mbucket,\n\u001b[0;32m    998\u001b[0m )\n\u001b[0;32m   1000\u001b[0m bucket\u001b[39m.\u001b[39m_set_properties(api_response)\n\u001b[0;32m   1001\u001b[0m \u001b[39mreturn\u001b[39;00m bucket\n",
      "File \u001b[1;32mc:\\Users\\marco\\OneDrive\\Desktop\\Google-CloudStorage-API\\venv\\lib\\site-packages\\google\\cloud\\storage\\client.py:606\u001b[0m, in \u001b[0;36mClient._post_resource\u001b[1;34m(self, path, data, query_params, headers, timeout, retry, _target_object)\u001b[0m\n\u001b[0;32m    545\u001b[0m \u001b[39mdef\u001b[39;00m \u001b[39m_post_resource\u001b[39m(\n\u001b[0;32m    546\u001b[0m     \u001b[39mself\u001b[39m,\n\u001b[0;32m    547\u001b[0m     path,\n\u001b[1;32m   (...)\u001b[0m\n\u001b[0;32m    553\u001b[0m     _target_object\u001b[39m=\u001b[39m\u001b[39mNone\u001b[39;00m,\n\u001b[0;32m    554\u001b[0m ):\n\u001b[0;32m    555\u001b[0m     \u001b[39m\"\"\"Helper for bucket / blob methods making API 'POST' calls.\u001b[39;00m\n\u001b[0;32m    556\u001b[0m \n\u001b[0;32m    557\u001b[0m \u001b[39m    Args:\u001b[39;00m\n\u001b[1;32m   (...)\u001b[0m\n\u001b[0;32m    603\u001b[0m \u001b[39m            If the bucket is not found.\u001b[39;00m\n\u001b[0;32m    604\u001b[0m \u001b[39m    \"\"\"\u001b[39;00m\n\u001b[1;32m--> 606\u001b[0m     \u001b[39mreturn\u001b[39;00m \u001b[39mself\u001b[39;49m\u001b[39m.\u001b[39;49m_connection\u001b[39m.\u001b[39;49mapi_request(\n\u001b[0;32m    607\u001b[0m         method\u001b[39m=\u001b[39;49m\u001b[39m\"\u001b[39;49m\u001b[39mPOST\u001b[39;49m\u001b[39m\"\u001b[39;49m,\n\u001b[0;32m    608\u001b[0m         path\u001b[39m=\u001b[39;49mpath,\n\u001b[0;32m    609\u001b[0m         data\u001b[39m=\u001b[39;49mdata,\n\u001b[0;32m    610\u001b[0m         query_params\u001b[39m=\u001b[39;49mquery_params,\n\u001b[0;32m    611\u001b[0m         headers\u001b[39m=\u001b[39;49mheaders,\n\u001b[0;32m    612\u001b[0m         timeout\u001b[39m=\u001b[39;49mtimeout,\n\u001b[0;32m    613\u001b[0m         retry\u001b[39m=\u001b[39;49mretry,\n\u001b[0;32m    614\u001b[0m         _target_object\u001b[39m=\u001b[39;49m_target_object,\n\u001b[0;32m    615\u001b[0m     )\n",
      "File \u001b[1;32mc:\\Users\\marco\\OneDrive\\Desktop\\Google-CloudStorage-API\\venv\\lib\\site-packages\\google\\cloud\\storage\\_http.py:73\u001b[0m, in \u001b[0;36mConnection.api_request\u001b[1;34m(self, *args, **kwargs)\u001b[0m\n\u001b[0;32m     71\u001b[0m     \u001b[39mif\u001b[39;00m retry:\n\u001b[0;32m     72\u001b[0m         call \u001b[39m=\u001b[39m retry(call)\n\u001b[1;32m---> 73\u001b[0m \u001b[39mreturn\u001b[39;00m call()\n",
      "File \u001b[1;32mc:\\Users\\marco\\OneDrive\\Desktop\\Google-CloudStorage-API\\venv\\lib\\site-packages\\google\\api_core\\retry.py:283\u001b[0m, in \u001b[0;36mRetry.__call__.<locals>.retry_wrapped_func\u001b[1;34m(*args, **kwargs)\u001b[0m\n\u001b[0;32m    279\u001b[0m target \u001b[39m=\u001b[39m functools\u001b[39m.\u001b[39mpartial(func, \u001b[39m*\u001b[39margs, \u001b[39m*\u001b[39m\u001b[39m*\u001b[39mkwargs)\n\u001b[0;32m    280\u001b[0m sleep_generator \u001b[39m=\u001b[39m exponential_sleep_generator(\n\u001b[0;32m    281\u001b[0m     \u001b[39mself\u001b[39m\u001b[39m.\u001b[39m_initial, \u001b[39mself\u001b[39m\u001b[39m.\u001b[39m_maximum, multiplier\u001b[39m=\u001b[39m\u001b[39mself\u001b[39m\u001b[39m.\u001b[39m_multiplier\n\u001b[0;32m    282\u001b[0m )\n\u001b[1;32m--> 283\u001b[0m \u001b[39mreturn\u001b[39;00m retry_target(\n\u001b[0;32m    284\u001b[0m     target,\n\u001b[0;32m    285\u001b[0m     \u001b[39mself\u001b[39;49m\u001b[39m.\u001b[39;49m_predicate,\n\u001b[0;32m    286\u001b[0m     sleep_generator,\n\u001b[0;32m    287\u001b[0m     \u001b[39mself\u001b[39;49m\u001b[39m.\u001b[39;49m_deadline,\n\u001b[0;32m    288\u001b[0m     on_error\u001b[39m=\u001b[39;49mon_error,\n\u001b[0;32m    289\u001b[0m )\n",
      "File \u001b[1;32mc:\\Users\\marco\\OneDrive\\Desktop\\Google-CloudStorage-API\\venv\\lib\\site-packages\\google\\api_core\\retry.py:190\u001b[0m, in \u001b[0;36mretry_target\u001b[1;34m(target, predicate, sleep_generator, deadline, on_error)\u001b[0m\n\u001b[0;32m    188\u001b[0m \u001b[39mfor\u001b[39;00m sleep \u001b[39min\u001b[39;00m sleep_generator:\n\u001b[0;32m    189\u001b[0m     \u001b[39mtry\u001b[39;00m:\n\u001b[1;32m--> 190\u001b[0m         \u001b[39mreturn\u001b[39;00m target()\n\u001b[0;32m    192\u001b[0m     \u001b[39m# pylint: disable=broad-except\u001b[39;00m\n\u001b[0;32m    193\u001b[0m     \u001b[39m# This function explicitly must deal with broad exceptions.\u001b[39;00m\n\u001b[0;32m    194\u001b[0m     \u001b[39mexcept\u001b[39;00m \u001b[39mException\u001b[39;00m \u001b[39mas\u001b[39;00m exc:\n",
      "File \u001b[1;32mc:\\Users\\marco\\OneDrive\\Desktop\\Google-CloudStorage-API\\venv\\lib\\site-packages\\google\\cloud\\_http\\__init__.py:494\u001b[0m, in \u001b[0;36mJSONConnection.api_request\u001b[1;34m(self, method, path, query_params, data, content_type, headers, api_base_url, api_version, expect_json, _target_object, timeout, extra_api_info)\u001b[0m\n\u001b[0;32m    482\u001b[0m response \u001b[39m=\u001b[39m \u001b[39mself\u001b[39m\u001b[39m.\u001b[39m_make_request(\n\u001b[0;32m    483\u001b[0m     method\u001b[39m=\u001b[39mmethod,\n\u001b[0;32m    484\u001b[0m     url\u001b[39m=\u001b[39murl,\n\u001b[1;32m   (...)\u001b[0m\n\u001b[0;32m    490\u001b[0m     extra_api_info\u001b[39m=\u001b[39mextra_api_info,\n\u001b[0;32m    491\u001b[0m )\n\u001b[0;32m    493\u001b[0m \u001b[39mif\u001b[39;00m \u001b[39mnot\u001b[39;00m \u001b[39m200\u001b[39m \u001b[39m<\u001b[39m\u001b[39m=\u001b[39m response\u001b[39m.\u001b[39mstatus_code \u001b[39m<\u001b[39m \u001b[39m300\u001b[39m:\n\u001b[1;32m--> 494\u001b[0m     \u001b[39mraise\u001b[39;00m exceptions\u001b[39m.\u001b[39mfrom_http_response(response)\n\u001b[0;32m    496\u001b[0m \u001b[39mif\u001b[39;00m expect_json \u001b[39mand\u001b[39;00m response\u001b[39m.\u001b[39mcontent:\n\u001b[0;32m    497\u001b[0m     \u001b[39mreturn\u001b[39;00m response\u001b[39m.\u001b[39mjson()\n",
      "\u001b[1;31mConflict\u001b[0m: 409 POST https://storage.googleapis.com/storage/v1/b?project=pf-henry-365404&prettyPrint=false: Your previous request to create the named bucket succeeded and you already own it."
     ]
    }
   ],
   "source": [
    "bucket_name = 'example_first_bucket'\n",
    "bucket = storage_client.bucket(bucket_name)\n",
    "bucket.location = 'US'\n",
    "bucket = storage_client.create_bucket(bucket)"
   ]
  },
  {
   "cell_type": "markdown",
   "metadata": {},
   "source": [
    "> Looking for bucket details"
   ]
  },
  {
   "cell_type": "code",
   "execution_count": 5,
   "metadata": {},
   "outputs": [
    {
     "data": {
      "text/plain": [
       "{'name': 'example_first_bucket',\n",
       " '_properties': {'location': 'US'},\n",
       " '_changes': {'location'},\n",
       " '_client': <google.cloud.storage.client.Client at 0x1ef148ab040>,\n",
       " '_acl': <google.cloud.storage.acl.BucketACL at 0x1ef148fcee0>,\n",
       " '_default_object_acl': <google.cloud.storage.acl.DefaultObjectACL at 0x1ef148fcdc0>,\n",
       " '_label_removals': set(),\n",
       " '_user_project': None}"
      ]
     },
     "execution_count": 5,
     "metadata": {},
     "output_type": "execute_result"
    }
   ],
   "source": [
    "vars(bucket)"
   ]
  },
  {
   "cell_type": "markdown",
   "metadata": {},
   "source": [
    "> Accessing a specific bucket"
   ]
  },
  {
   "cell_type": "code",
   "execution_count": 6,
   "metadata": {},
   "outputs": [],
   "source": [
    "my_bucket = storage_client.get_bucket('example_first_bucket')"
   ]
  },
  {
   "cell_type": "markdown",
   "metadata": {},
   "source": [
    "> Upload files"
   ]
  },
  {
   "cell_type": "code",
   "execution_count": 7,
   "metadata": {},
   "outputs": [],
   "source": [
    "def upload_to_bucket(blob_name,file_path,bucket_name):\n",
    "    try:\n",
    "        bucket = storage_client.get_bucket(bucket_name)\n",
    "        blob = bucket.blob(blob_name)\n",
    "        blob.upload_from_filename(file_path)\n",
    "        return(True)\n",
    "    except Exception as e:\n",
    "        print (e)\n",
    "        return False"
   ]
  },
  {
   "cell_type": "code",
   "execution_count": 8,
   "metadata": {},
   "outputs": [
    {
     "data": {
      "text/plain": [
       "True"
      ]
     },
     "execution_count": 8,
     "metadata": {},
     "output_type": "execute_result"
    }
   ],
   "source": [
    "upload_to_bucket('Users','./MOCK_DATA.csv','example_first_bucket')"
   ]
  },
  {
   "cell_type": "markdown",
   "metadata": {},
   "source": [
    "> Download files"
   ]
  },
  {
   "cell_type": "code",
   "execution_count": 9,
   "metadata": {},
   "outputs": [],
   "source": [
    "def download_file_from_bucket(blob_name,file_path,bucket_name):\n",
    "    try:\n",
    "        bucket = storage_client.get_bucket(bucket_name)\n",
    "        blob = bucket.blob(blob_name)\n",
    "        with open(file_path,'wb') as f:\n",
    "            storage_client.download_blob_to_file(blob,f)\n",
    "        return(True)\n",
    "    except Exception as e:\n",
    "        print (e)\n",
    "        return False"
   ]
  },
  {
   "cell_type": "code",
   "execution_count": 10,
   "metadata": {},
   "outputs": [
    {
     "data": {
      "text/plain": [
       "True"
      ]
     },
     "execution_count": 10,
     "metadata": {},
     "output_type": "execute_result"
    }
   ],
   "source": [
    "bucket_name = 'example_first_bucket'\n",
    "blob_name = 'Users'\n",
    "download_file_from_bucket(blob_name,'./MOCK_DATA_downloaded',bucket_name)"
   ]
  }
 ],
 "metadata": {
  "kernelspec": {
   "display_name": "Python 3.10.6 ('venv': venv)",
   "language": "python",
   "name": "python3"
  },
  "language_info": {
   "codemirror_mode": {
    "name": "ipython",
    "version": 3
   },
   "file_extension": ".py",
   "mimetype": "text/x-python",
   "name": "python",
   "nbconvert_exporter": "python",
   "pygments_lexer": "ipython3",
   "version": "3.10.6"
  },
  "orig_nbformat": 4,
  "vscode": {
   "interpreter": {
    "hash": "f17f0c6078b16db2fb9198bc5c1e45f68a0ea947953619e05b304906863c7cd0"
   }
  }
 },
 "nbformat": 4,
 "nbformat_minor": 2
}
